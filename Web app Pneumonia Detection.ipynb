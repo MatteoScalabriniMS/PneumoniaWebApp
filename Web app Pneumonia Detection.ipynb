{
 "cells": [
  {
   "cell_type": "code",
   "execution_count": 1,
   "metadata": {},
   "outputs": [],
   "source": [
    "import os\n",
    "from flask import Flask, render_template, request\n",
    "import tensorflow\n",
    "from keras.preprocessing import image\n",
    "import numpy as np\n",
    "from keras.models import load_model"
   ]
  },
  {
   "cell_type": "code",
   "execution_count": null,
   "metadata": {},
   "outputs": [],
   "source": [
    "!pwd"
   ]
  },
  {
   "cell_type": "code",
   "execution_count": 3,
   "metadata": {},
   "outputs": [
    {
     "name": "stdout",
     "output_type": "stream",
     "text": [
      "Check http://127.0.0.1:5000/\n",
      " * Serving Flask app \"__main__\" (lazy loading)\n",
      " * Environment: production\n",
      "\u001b[31m   WARNING: This is a development server. Do not use it in a production deployment.\u001b[0m\n",
      "\u001b[2m   Use a production WSGI server instead.\u001b[0m\n",
      " * Debug mode: on\n"
     ]
    },
    {
     "name": "stderr",
     "output_type": "stream",
     "text": [
      " * Running on http://127.0.0.1:5000/ (Press CTRL+C to quit)\n",
      "127.0.0.1 - - [22/Nov/2020 00:42:22] \"\u001b[37mPOST / HTTP/1.1\u001b[0m\" 200 -\n",
      "127.0.0.1 - - [22/Nov/2020 00:42:22] \"\u001b[37mGET /static/person7_bacteria_25.jpeg HTTP/1.1\u001b[0m\" 200 -\n"
     ]
    }
   ],
   "source": [
    "app = Flask(__name__)\n",
    "\n",
    "UPLOAD_FOLDER = \"/home/tesi/scala95/static\"\n",
    "MODEL_PATH = \"/home/tesi/scala95/models/Pneumonia_Densenet_Frontend.h5\"\n",
    "\n",
    "model = load_model(MODEL_PATH)\n",
    "model.compile(loss=\"binary_crossentropy\", optimizer=\"rmsprop\", metrics=[\"accuracy\"])\n",
    "\n",
    "    \n",
    "@app.route(\"/\", methods=[\"GET\", \"POST\"])\n",
    "def upload_predict():\n",
    "    if request.method == \"POST\":\n",
    "        image_file = request.files[\"image\"]\n",
    "        if image_file:\n",
    "            image_location = os.path.join(UPLOAD_FOLDER, image_file.filename)\n",
    "            image_file.save(image_location)\n",
    "            \n",
    "            img = image.load_img(image_location, target_size=(224, 224))\n",
    "            x = image.img_to_array(img)\n",
    "            x = np.true_divide(x, 255)\n",
    "            x = np.expand_dims(x, axis=0)\n",
    "            y_pred = model.predict(x)\n",
    "            New_pred = np.argmax(y_pred, axis=1)\n",
    "            score_pred = np.round(y_pred, 3)\n",
    "            \n",
    "            if New_pred==[1]:\n",
    "              #print('Prediction: Normal')\n",
    "                diagnosis=\"Some symptoms of Pneumonia disease have been detected\"\n",
    "            else:\n",
    "              #print('Prediction: Pneumonia')\n",
    "                diagnosis=\"The patient shows no traces of Pneumonia disease\"\n",
    "            \n",
    "            return render_template(\"index.html\", prediction=diagnosis, score=score_pred, image_loc=image_file.filename)\n",
    "        \n",
    "    return render_template(\"index.html\", prediction=0, score=0, image_loc=None)\n",
    "\n",
    "\n",
    "\n",
    "\n",
    "print('Check http://127.0.0.1:5000/')\n",
    "\n",
    "if __name__==\"__main__\":\n",
    "    app.run(debug=True, use_reloader=False)"
   ]
  }
 ],
 "metadata": {
  "kernelspec": {
   "display_name": "Python 3",
   "language": "python",
   "name": "python3"
  },
  "language_info": {
   "codemirror_mode": {
    "name": "ipython",
    "version": 3
   },
   "file_extension": ".py",
   "mimetype": "text/x-python",
   "name": "python",
   "nbconvert_exporter": "python",
   "pygments_lexer": "ipython3",
   "version": "3.7.9"
  }
 },
 "nbformat": 4,
 "nbformat_minor": 4
}
